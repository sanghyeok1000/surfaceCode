{
 "cells": [
  {
   "cell_type": "code",
   "execution_count": null,
   "id": "ed6462e4",
   "metadata": {
    "vscode": {
     "languageId": "plaintext"
    }
   },
   "outputs": [],
   "source": [
    "import matplotlib.pyplot as plt\n",
    "from qiskit import QuantumRegister, QuantumCircuit, ClassicalRegister\n",
    "from qiskit.synthesis.stabilizer import synth_circuit_from_stabilizers\n",
    "from qiskit_aer import AerSimulator\n",
    "import math\n",
    "from matplotlib.patches import Polygon\n",
    "import copy\n",
    "import networkx as nx\n",
    "from collections import deque\n",
    "from qiskit_aer.noise import NoiseModel, depolarizing_error, thermal_relaxation_error\n",
    "import random\n",
    "from collections import Counter\n",
    "import numpy as np"
   ]
  }
 ],
 "metadata": {
  "language_info": {
   "name": "python"
  }
 },
 "nbformat": 4,
 "nbformat_minor": 5
}
